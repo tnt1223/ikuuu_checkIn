{
 "cells": [
  {
   "cell_type": "code",
   "execution_count": 1,
   "metadata": {},
   "outputs": [],
   "source": [
    "import os\n",
    "import pandas as pd\n",
    "from tqdm import tqdm\n",
    "\n",
    "\n",
    "# 遍历当前目录文件夹，存为list\n",
    "def get_file_list(dir):\n",
    "    file_list = []\n",
    "    for root, dirs, files in os.walk(dir):\n",
    "        for file in files:\n",
    "            file_list.append(os.path.join(root, file))\n",
    "    return file_list"
   ]
  },
  {
   "cell_type": "code",
   "execution_count": 2,
   "metadata": {},
   "outputs": [],
   "source": [
    "# 清洗数据，并按尺码分类\n",
    "def df_clean(file):\n",
    "    df = pd.read_excel(file, sheet_name=\"Sheet1\")\n",
    "    df_new = df[\n",
    "        [\n",
    "            \"订单号\",\n",
    "            \"订单状态\",\n",
    "            \"发货时间\",\n",
    "            \"SKC\",\n",
    "            \"属性集\",\n",
    "            \"发货单号\",\n",
    "            \"正品数量\",\n",
    "            \"次品数量\",\n",
    "            \"退货时间\",\n",
    "        ]\n",
    "    ].copy()\n",
    "    # 带copy()取消警告\n",
    "    df_new[\"发货单号\"] = df_new[\"发货单号\"].astype(str)\n",
    "\n",
    "    def classify_size(size):\n",
    "        if any(x in size for x in [\"0XL\", \"1XL\", \"2XL\", \"3XL\", \"4XL\"]):\n",
    "            return \"0XL-4XL\"\n",
    "        else:\n",
    "            return \"S-XL\"\n",
    "\n",
    "    df_new.loc[:, \"尺码分类\"] = df_new.loc[:, \"属性集\"].apply(classify_size)\n",
    "    df_new.sort_values(by=[\"发货时间\", \"订单号\", \"尺码分类\"], inplace=True)\n",
    "    return df_new\n",
    "\n",
    "\n",
    "# 将每个订单号的正品数量求和，其余保留第一个属性\n",
    "def group_sum(df: pd.DataFrame):\n",
    "    # 获取所有列名，排除用于分组的列和需要求和的列\n",
    "    group_cols = ['订单号']\n",
    "    sum_cols = ['正品数量']\n",
    "    first_cols = [col for col in df.columns if col not in group_cols + sum_cols]\n",
    "\n",
    "    # 创建聚合字典\n",
    "    agg_dict = {col: 'first' for col in first_cols}\n",
    "    agg_dict.update({col: 'sum' for col in sum_cols})\n",
    "\n",
    "    # 按订单号分组，并应用聚合函数\n",
    "    result = (\n",
    "        df.groupby(group_cols)\n",
    "        .agg(agg_dict)\n",
    "        .reset_index()\n",
    "        .sort_values(by=['发货时间', '订单号', '尺码分类'])\n",
    "    )\n",
    "    return result"
   ]
  },
  {
   "cell_type": "code",
   "execution_count": 3,
   "metadata": {},
   "outputs": [
    {
     "name": "stdout",
     "output_type": "stream",
     "text": [
      "   订单号   属性  数量\n",
      "0    1  属性A  30\n",
      "1    2  属性A  70\n",
      "2    3  属性A  50\n"
     ]
    }
   ],
   "source": [
    "# 示例数据\n",
    "data = {\n",
    "    '订单号': [1, 1, 2, 2, 3],\n",
    "    '属性': ['属性A', '属性B', '属性A', '属性B', '属性A'],\n",
    "    '数量': [10, 20, 30, 40, 50],\n",
    "}\n",
    "\n",
    "df = pd.DataFrame(data)\n",
    "\n",
    "# 按订单号分组，并对数量求和，保留第一个属性\n",
    "result = df.groupby('订单号').agg({'属性': 'first', '数量': 'sum'}).reset_index()\n",
    "\n",
    "print(result)"
   ]
  },
  {
   "cell_type": "code",
   "execution_count": 4,
   "metadata": {},
   "outputs": [
    {
     "name": "stdout",
     "output_type": "stream",
     "text": [
      "   订单号      客户名        产品     属性集     尺码分类\n",
      "0    1    Alice  Product1    黑色-S     S-XL\n",
      "1    2      Bob  Product2  黑色-0XL  0XL-4XL\n",
      "2    3  Charlie  Product3    黑色-M     S-XL\n"
     ]
    }
   ],
   "source": [
    "import pandas as pd\n",
    "\n",
    "# 示例数据\n",
    "data = {\n",
    "    '订单号': [1, 2, 3],\n",
    "    '客户名': ['Alice', 'Bob', 'Charlie'],\n",
    "    '产品': ['Product1', 'Product2', 'Product3'],\n",
    "    '属性集': ['黑色-S', '黑色-0XL', '黑色-M'],\n",
    "}\n",
    "\n",
    "df = pd.DataFrame(data)\n",
    "\n",
    "\n",
    "# 定义分类函数\n",
    "def classify_size(size):\n",
    "    if any(x in size for x in ['0XL', '1XL', '2XL', '3XL', '4XL']):\n",
    "        return '0XL-4XL'\n",
    "    else:\n",
    "        return 'S-XL'\n",
    "\n",
    "\n",
    "# 使用 .loc 方法新增列\n",
    "df.loc[:, '尺码分类'] = df['属性集'].apply(classify_size)\n",
    "print(df)"
   ]
  },
  {
   "cell_type": "code",
   "execution_count": 5,
   "metadata": {},
   "outputs": [
    {
     "name": "stderr",
     "output_type": "stream",
     "text": [
      "100%|██████████| 30/30 [00:05<00:00,  5.97it/s]\n"
     ]
    }
   ],
   "source": [
    "# 拼接一个月三十个表\n",
    "from datetime import datetime\n",
    "\n",
    "df_list = []\n",
    "file_list = get_file_list('./11月')\n",
    "for file in tqdm(file_list):\n",
    "\n",
    "    df_new = df_clean(file)\n",
    "\n",
    "    df_new = group_sum(df_new)\n",
    "    df_list.append(df_new)\n",
    "df_summary = pd.concat(df_list)\n",
    "df_summary.sort_values(by=['发货时间', '订单号', '尺码分类'], inplace=True)\n",
    "sheet_names = {'S-XL': '常规牛奶丝露胶S-XL', '0XL-4XL': '胖码牛奶丝露脐0XL-4XL'}\n",
    "with pd.ExcelWriter(\n",
    "    f'./结果/30表_{datetime.now().strftime(\"%m\")}月.xlsx', engine='openpyxl'\n",
    ") as writer:\n",
    "\n",
    "    for key, value in sheet_names.items():\n",
    "\n",
    "        df_summary[df_summary['尺码分类'] == key].to_excel(\n",
    "            writer, index=False, sheet_name=value\n",
    "        )"
   ]
  },
  {
   "cell_type": "code",
   "execution_count": 6,
   "metadata": {},
   "outputs": [
    {
     "name": "stderr",
     "output_type": "stream",
     "text": [
      "100%|██████████| 2/2 [00:00<00:00,  6.80it/s]\n"
     ]
    },
    {
     "name": "stdout",
     "output_type": "stream",
     "text": [
      "DataFrames 已添加到 '30表.xlsx'\n"
     ]
    }
   ],
   "source": [
    "import os\n",
    "import pandas as pd\n",
    "from tqdm import tqdm\n",
    "\n",
    "file_path = f'./结果/30表_{datetime.now().strftime(\"%m\")}月.xlsx'\n",
    "file_list = get_file_list(\"./两表\")\n",
    "with pd.ExcelWriter(file_path, engine=\"openpyxl\", mode=\"a\") as writer:\n",
    "    for file in tqdm(file_list):\n",
    "        df_new = df_clean(file)\n",
    "        sheet_name = os.path.basename(file).replace(\".xlsx\", \"\")\n",
    "        df_summary = group_sum(df_new)\n",
    "        if not df_summary.empty:\n",
    "            df_summary.to_excel(writer, sheet_name=sheet_name, index=False)\n",
    "\n",
    "print(\"DataFrames 已添加到 '30表.xlsx'\")"
   ]
  },
  {
   "cell_type": "code",
   "execution_count": 1,
   "metadata": {},
   "outputs": [
    {
     "name": "stdout",
     "output_type": "stream",
     "text": [
      "DataFrame A:\n",
      "   订单号 属性列  数量\n",
      "0    1   A  10\n",
      "2    3   A  30\n",
      "4    5   A  50\n",
      "\n",
      "DataFrame B:\n",
      "   订单号 属性列  数量\n",
      "1    2   B  20\n",
      "3    4   B  40\n"
     ]
    }
   ],
   "source": [
    "import pandas as pd\n",
    "\n",
    "# 示例数据\n",
    "data = {\n",
    "    \"订单号\": [1, 2, 3, 4, 5],\n",
    "    \"属性列\": [\"A\", \"B\", \"A\", \"B\", \"A\"],\n",
    "    \"数量\": [10, 20, 30, 40, 50],\n",
    "}\n",
    "\n",
    "df_summary = pd.DataFrame(data)\n",
    "\n",
    "# 根据属性列的值将 DataFrame 分成两个 DataFrame\n",
    "df_A = df_summary[df_summary[\"属性列\"] == \"A\"]\n",
    "df_B = df_summary[df_summary[\"属性列\"] == \"B\"]\n",
    "\n",
    "print(\"DataFrame A:\")\n",
    "print(df_A)\n",
    "print(\"\\nDataFrame B:\")\n",
    "print(df_B)"
   ]
  }
 ],
 "metadata": {
  "kernelspec": {
   "display_name": "base",
   "language": "python",
   "name": "python3"
  },
  "language_info": {
   "codemirror_mode": {
    "name": "ipython",
    "version": 3
   },
   "file_extension": ".py",
   "mimetype": "text/x-python",
   "name": "python",
   "nbconvert_exporter": "python",
   "pygments_lexer": "ipython3",
   "version": "3.11.4"
  }
 },
 "nbformat": 4,
 "nbformat_minor": 2
}
