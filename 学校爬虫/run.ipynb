{
 "cells": [
  {
   "cell_type": "code",
   "execution_count": null,
   "metadata": {},
   "outputs": [],
   "source": [
    "from curl_cffi import requests\n",
    "import parsel.selector\n",
    "from rich import print\n",
    "from urllib.parse import urljoin\n",
    "\n",
    "cookies = {\n",
    "    'CFID': '1010820',\n",
    "    'CFTOKEN': 'e9b1be1c816ca288-6BBCD355-D2A5-F49C-8FF274E09805A217',\n",
    "    'AWSALB': 'nK/xIjZUaqbYsFRj4a5jH/fRDQ0dt7Eb/Wfmokk+Jv+dpEF3UWdyYR6NW7snH0JOe6MA6oxWBVxnZyI+fuzERxwLAJRWRnZVFe4y1q5CwAVnZsLOO+pVGISXQHDM',\n",
    "    'AWSALBCORS': 'nK/xIjZUaqbYsFRj4a5jH/fRDQ0dt7Eb/Wfmokk+Jv+dpEF3UWdyYR6NW7snH0JOe6MA6oxWBVxnZyI+fuzERxwLAJRWRnZVFe4y1q5CwAVnZsLOO+pVGISXQHDM',\n",
    "    'SEARCH_TERM': 'd%20wang',\n",
    "}\n",
    "\n",
    "headers = {\n",
    "    'accept': 'text/html,application/xhtml+xml,application/xml;q=0.9,image/avif,image/webp,image/apng,*/*;q=0.8,application/signed-exchange;v=b3;q=0.7',\n",
    "    'accept-language': 'zh-CN,zh;q=0.9',\n",
    "    'cache-control': 'no-cache',\n",
    "    # 'cookie': 'CFID=1010820; CFTOKEN=e9b1be1c816ca288-6BBCD355-D2A5-F49C-8FF274E09805A217; AWSALB=nK/xIjZUaqbYsFRj4a5jH/fRDQ0dt7Eb/Wfmokk+Jv+dpEF3UWdyYR6NW7snH0JOe6MA6oxWBVxnZyI+fuzERxwLAJRWRnZVFe4y1q5CwAVnZsLOO+pVGISXQHDM; AWSALBCORS=nK/xIjZUaqbYsFRj4a5jH/fRDQ0dt7Eb/Wfmokk+Jv+dpEF3UWdyYR6NW7snH0JOe6MA6oxWBVxnZyI+fuzERxwLAJRWRnZVFe4y1q5CwAVnZsLOO+pVGISXQHDM; SEARCH_TERM=d%20wang',\n",
    "    'pragma': 'no-cache',\n",
    "    'priority': 'u=0, i',\n",
    "    'sec-ch-ua': '\"Chromium\";v=\"130\", \"Google Chrome\";v=\"130\", \"Not?A_Brand\";v=\"99\"',\n",
    "    'sec-ch-ua-mobile': '?0',\n",
    "    'sec-ch-ua-platform': '\"Windows\"',\n",
    "    'sec-fetch-dest': 'document',\n",
    "    'sec-fetch-mode': 'navigate',\n",
    "    'sec-fetch-site': 'same-origin',\n",
    "    'sec-fetch-user': '?1',\n",
    "    'upgrade-insecure-requests': '1',\n",
    "    'user-agent': 'Mozilla/5.0 (Windows NT 10.0; Win64; x64) AppleWebKit/537.36 (KHTML, like Gecko) Chrome/130.0.0.0 Safari/537.36',\n",
    "}\n",
    "\n",
    "params = {\n",
    "    'SearchString': 'd wang',\n",
    "}\n",
    "base_url = 'https://directory.service.emory.edu/'\n",
    "\n",
    "\n",
    "async def main():\n",
    "    session = requests.AsyncSession()\n",
    "    response_co = session.get(\n",
    "        'https://directory.service.emory.edu/index.cfm',\n",
    "        params=params,\n",
    "        # cookies=cookies,\n",
    "        # headers=headers,\n",
    "    )\n",
    "    response = await response_co\n",
    "    selector = parsel.Selector(response.text)\n",
    "\n",
    "    urls = selector.xpath('//td/table//tr/td[1]/a/@href').getall()\n",
    "    absolute_urls = [urljoin(base_url, url) for url in urls]\n",
    "    print(absolute_urls)\n",
    "\n",
    "    p_url = absolute_urls[0]\n",
    "    response_co = session.get(\n",
    "        p_url,\n",
    "        # cookies=cookies,\n",
    "        # headers=headers,\n",
    "    )\n",
    "    response = await response_co\n",
    "    print(response.text)\n",
    "    return response.text\n",
    "\n",
    "\n",
    "await main()\n",
    "# print(response.text)"
   ]
  },
  {
   "cell_type": "code",
   "execution_count": null,
   "metadata": {},
   "outputs": [],
   "source": [
    "html = await main()"
   ]
  },
  {
   "cell_type": "code",
   "execution_count": null,
   "metadata": {},
   "outputs": [
    {
     "name": "stdout",
     "output_type": "stream",
     "text": [
      " Adjunct Professor  School Of Law  School of Law  Faculty\n"
     ]
    },
    {
     "data": {
      "text/plain": [
       "['<a href=\"./index.cfm?e=1&amp;s=1&amp;public=P5492401\">Roger-Claude Liwanga</a>',\n",
       " '<a href=\"./index.cfm?e=2&amp;s=1&amp;public=P8150011\">Andrew Wang</a>',\n",
       " '<a href=\"./index.cfm?e=3&amp;s=1&amp;public=P1856426\">Andrew Wang</a>',\n",
       " '<a href=\"./index.cfm?e=4&amp;s=1&amp;public=P9349617\">Andrew Wang</a>',\n",
       " '<a href=\"./index.cfm?e=5&amp;s=1&amp;public=P9778363\">Andrew Wang</a>',\n",
       " '<a href=\"./index.cfm?e=6&amp;s=1&amp;public=P5190092\">Andy Wang</a>',\n",
       " '<a href=\"./index.cfm?e=7&amp;s=1&amp;public=P8783357\">Audrey Wang</a>',\n",
       " '<a href=\"./index.cfm?e=8&amp;s=1&amp;public=P4890676\">Bing Edna Wang</a>',\n",
       " '<a href=\"./index.cfm?e=9&amp;s=1&amp;public=P1590071\">Daisy Wang</a>',\n",
       " '<a href=\"./index.cfm?e=10&amp;s=1&amp;public=P4706407\">Daiwei Wang</a>',\n",
       " '<a href=\"./index.cfm?e=11&amp;s=1&amp;public=P0266248\">Dalong Wang</a>',\n",
       " '<a href=\"./index.cfm?e=12&amp;s=1&amp;public=P2151641\">Daniel Wang</a>',\n",
       " '<a href=\"./index.cfm?e=13&amp;s=1&amp;public=P0272580\">Danyang Wang</a>',\n",
       " '<a href=\"./index.cfm?e=14&amp;s=1&amp;public=P8873574\">Danzhao Wang</a>',\n",
       " '<a href=\"./index.cfm?e=15&amp;s=1&amp;public=P8509150\">Daren Wang</a>',\n",
       " '<a href=\"./index.cfm?e=16&amp;s=1&amp;public=P1805350\">David Wang</a>',\n",
       " '<a href=\"./index.cfm?e=17&amp;s=1&amp;public=P8653943\">David Wang</a>',\n",
       " '<a href=\"./index.cfm?e=18&amp;s=1&amp;public=P3124136\">Delvin Wang</a>',\n",
       " '<a href=\"./index.cfm?e=19&amp;s=1&amp;public=P7244854\">Dongli Wang</a>',\n",
       " '<a href=\"./index.cfm?e=20&amp;s=1&amp;public=P3336575\">Dongsheng Wang MD</a>',\n",
       " '<a href=\"./index.cfm?e=21&amp;s=1&amp;public=P4399093\">Dongxue Wang</a>',\n",
       " '<a href=\"./index.cfm?e=22&amp;s=1&amp;public=P0128090\">Duan Wang</a>',\n",
       " '<a href=\"./index.cfm?e=23&amp;s=1&amp;public=P2290854\">Edrick Wang</a>',\n",
       " '<a href=\"./index.cfm?e=24&amp;s=1&amp;public=P8336446\">Linda Wang</a>',\n",
       " '<a href=\"./index.cfm?e=25&amp;s=1&amp;public=P2891345\">Madison Wang</a>',\n",
       " '<a href=\"./index.cfm?e=26&amp;s=1&amp;public=P3676095\">May D Wang PhD</a>',\n",
       " '<a href=\"./index.cfm?e=27&amp;s=1&amp;public=P4257632\">Melody Wang</a>',\n",
       " '<a href=\"./index.cfm?e=28&amp;s=1&amp;public=P3054191\">Miranda Wang</a>',\n",
       " '<a href=\"./index.cfm?e=29&amp;s=1&amp;public=P9037104\">Richard Wang</a>',\n",
       " '<a href=\"./index.cfm?e=30&amp;s=1&amp;public=P5499551\">Richard Wang</a>',\n",
       " '<a href=\"./index.cfm?e=31&amp;s=1&amp;public=P1271371\">Wenduan Wang</a>',\n",
       " '<a href=\"./index.cfm?e=32&amp;s=1&amp;public=P4336955\">Wendy Wang</a>',\n",
       " '<a href=\"./index.cfm?e=33&amp;s=1&amp;public=P4609512\">Xiaoda Wang</a>']"
      ]
     },
     "execution_count": 6,
     "metadata": {},
     "output_type": "execute_result"
    }
   ],
   "source": [
    "import parsel\n",
    "import os\n",
    "\n",
    "# 读取output\n",
    "with open('output.html', 'r', encoding='utf-8') as f:\n",
    "    html = f.read()\n",
    "selector = parsel.Selector(html)\n",
    "\n",
    "\n",
    "# 浏览器xpath\n",
    "\n",
    "\n",
    "title = selector.xpath('//table//tr[2]//tr[5]/td[2]/text()').get()\n",
    "\n",
    "\n",
    "School_Division = selector.xpath('//table//tr[2]//tr[6]/td[2]/text()').get()\n",
    "\n",
    "\n",
    "Department = selector.xpath('//table//tr[2]//tr[7]/td[2]/text()').get()\n",
    "\n",
    "\n",
    "Type = selector.xpath('//table//tr[2]//tr[8]/td[2]/text()').get()\n",
    "\n",
    "\n",
    "print(title, School_Division, Department, Type)\n",
    "\n",
    "\n",
    "email_url = selector.xpath('//button[@class=\"g-recaptcha\"]').get()\n",
    "\n",
    "\n",
    "selector.xpath('//table/tr/td/table/tr[3]/td/table/tr/td[1]/a').getall()"
   ]
  },
  {
   "cell_type": "code",
   "execution_count": 130,
   "metadata": {},
   "outputs": [
    {
     "data": {
      "text/html": [
       "<pre style=\"white-space:pre;overflow-x:auto;line-height:normal;font-family:Menlo,'DejaVu Sans Mono',consolas,'Courier New',monospace\">HTML内容已成功保存到 output.html\n",
       "</pre>\n"
      ],
      "text/plain": [
       "HTML内容已成功保存到 output.html\n"
      ]
     },
     "metadata": {},
     "output_type": "display_data"
    }
   ],
   "source": [
    "# 保存为 output.html 文件\n",
    "with open('output.html', 'w', encoding='utf-8') as file:\n",
    "    file.write(response.text)\n",
    "\n",
    "print(\"HTML内容已成功保存到 output.html\")"
   ]
  },
  {
   "cell_type": "code",
   "execution_count": null,
   "metadata": {},
   "outputs": [],
   "source": [
    "from rich import inspect\n",
    "import lxml.etree\n",
    "\n",
    "# selector.xpath('/html/body/div[2]/div[4]/table/tbody/tr/td/table/text()')\n",
    "names = selector.xpath('//td/table//tr/td[1]/a/text()').getall()\n",
    "urls = selector.xpath('//td/table//tr/td[1]/a/@href').getall()\n",
    "# etree = lxml.etree.HTML(response.text)\n",
    "# names = etree.xpath('//tr/td[1]/a/text()')\n",
    "# 删除tbody后能够获取到数据\n",
    "# names = etree.xpath('//td/table//tr/td[1]/a')\n",
    "urls"
   ]
  }
 ],
 "metadata": {
  "kernelspec": {
   "display_name": "base",
   "language": "python",
   "name": "python3"
  },
  "language_info": {
   "codemirror_mode": {
    "name": "ipython",
    "version": 3
   },
   "file_extension": ".py",
   "mimetype": "text/x-python",
   "name": "python",
   "nbconvert_exporter": "python",
   "pygments_lexer": "ipython3",
   "version": "3.11.4"
  }
 },
 "nbformat": 4,
 "nbformat_minor": 2
}
